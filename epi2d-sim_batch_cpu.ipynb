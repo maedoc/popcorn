{
 "cells": [
  {
   "cell_type": "code",
   "execution_count": 1,
   "metadata": {},
   "outputs": [],
   "source": [
    "import numpy as np\n",
    "import scipy.sparse as scpsp\n",
    "import tqdm\n",
    "import matplotlib.pyplot as plt"
   ]
  },
  {
   "cell_type": "code",
   "execution_count": 2,
   "metadata": {},
   "outputs": [],
   "source": [
    "# compile C code\n",
    "import os, ctypes\n",
    "from ctypes import c_int, c_float\n",
    "fvec = np.ctypeslib.ndpointer(dtype=np.float32)\n",
    "ivec = np.ctypeslib.ndpointer(dtype=np.int32)\n",
    "os.system('gcc -fopenmp -O3 -mavx512f -ffast-math -mtune=native -march=native -c delays2.c -o delays2.c.o')\n",
    "os.system('gcc -shared -fopenmp delays2.c.o -o delays2.c.so')\n",
    "lib = ctypes.CDLL('./delays2.c.so')\n",
    "lib.epi2d_dfun_batch.restype = None\n",
    "lib.epi2d_dfun_batch.argtypes = (\n",
    "    c_int, c_int,\n",
    "    fvec, fvec, fvec, fvec, fvec, fvec, fvec,\n",
    "    c_float, c_float\n",
    ")\n",
    "lib.delays1_batch.restype = None\n",
    "lib.delays1_batch.argtypes = (\n",
    "    c_int, c_int, c_int, c_int,\n",
    "    fvec, fvec, fvec, ivec, ivec, ivec\n",
    ")\n",
    "lib.upbuf.restype = None\n",
    "lib.upbuf.argtypes = (\n",
    "    c_int, c_int, c_int, c_int,\n",
    "    fvec, fvec\n",
    ")\n",
    "os.environ[\"OMP_NUM_THREADS\"] = \"32\""
   ]
  },
  {
   "cell_type": "code",
   "execution_count": 3,
   "metadata": {},
   "outputs": [],
   "source": [
    "def get_n_excitations(x):\n",
    "    data_diff = np.diff(x > -1, append=False, axis=0)\n",
    "    n_excitations = np.ceil(data_diff.sum(axis=0)/2)\n",
    "    return n_excitations"
   ]
  },
  {
   "cell_type": "code",
   "execution_count": 4,
   "metadata": {},
   "outputs": [],
   "source": [
    "def heun(bs, nv, nh, i, dxz, xz, dt, x_0, lc, gc, xbuf, k_lc, k_gc, eps, theta, I, W, K, iL, iG):\n",
    "    # eval coupling 1 or 2, depending on time step\n",
    "    if i % 2 == 0:\n",
    "        heavi = np.array(xz[0]>theta,'f') # heaviside step function coupling, upadte the buffer only according to threshold\n",
    "        lib.upbuf(bs, nv, nh, i, xbuf, heavi) # update buffer\n",
    "        lib.delays1_batch(bs, nv, nh, i+1, gc[0], xbuf, W.data, iL, W.indices, W.indptr) # global coupling\n",
    "        lib.delays1_batch(bs, nv, nh, i+1, lc[0], xbuf, K.data, iG, K.indices, K.indptr) # local coupling\n",
    "\n",
    "        # predictor stage\n",
    "        lib.epi2d_dfun_batch(bs, nv, dxz[0], xz, lc[1], gc[1], x_0, k_lc, k_gc, eps, I)\n",
    "        xzi = xz + dt*dxz[0]\n",
    "        \n",
    "        # corrector stage\n",
    "        lib.epi2d_dfun_batch(bs, nv, dxz[1], xzi, lc[0], gc[0], x_0, k_lc, k_gc, eps, I)\n",
    "        xz += dt/2*(dxz[0] + dxz[1])\n",
    "\n",
    "    else:\n",
    "        heavi = np.array(xz[0]>theta,'f') # heaviside step function coupling, upadte the buffer only according to threshold\n",
    "        lib.upbuf(bs, nv, nh, i, xbuf, heavi) # update buffer\n",
    "        lib.delays1_batch(bs, nv, nh, i+1, gc[1], xbuf, W.data, iL, W.indices, W.indptr) # global coupling\n",
    "        lib.delays1_batch(bs, nv, nh, i+1, lc[1], xbuf, K.data, iG, K.indices, K.indptr) # local coupling\n",
    "\n",
    "        # predictor stage\n",
    "        lib.epi2d_dfun_batch(bs, nv, dxz[0], xz, lc[0], gc[0], x_0, k_lc, k_gc, eps, I)\n",
    "        xzi = xz + dt*dxz[0]\n",
    "        \n",
    "        # corrector stage\n",
    "        lib.epi2d_dfun_batch(bs, nv, dxz[1], xzi, lc[1], gc[1], x_0, k_lc, k_gc, eps, I)\n",
    "        xz += dt/2*(dxz[0] + dxz[1])"
   ]
  },
  {
   "cell_type": "code",
   "execution_count": 5,
   "metadata": {},
   "outputs": [],
   "source": [
    "def run_sims(dist, gamma_range):\n",
    "    bs = len(gamma_range) # n sims in parallel\n",
    "\n",
    "    # create global and local connectivity\n",
    "    gc_mat = scpsp.csr_matrix([[0,1],[1,0]]).astype('f') \n",
    "    lc_mat = scpsp.csr_matrix([[0,1],[1,0]]).astype('f')\n",
    "    gc_dist_mat = scpsp.csr_matrix([[0,1],[1,0]]).astype('f') * dist\n",
    "    lc_dist_mat = gc_dist_mat.copy() # irrelevant\n",
    "    nv = lc_mat.shape[0]\n",
    "\n",
    "    # some parameters\n",
    "    dt = np.float32(0.1)\n",
    "\n",
    "    # prepare extra info for delays\n",
    "    local_velocity = 6 # # Salami et al. 2002, intra-cortical conduction 10x slower \n",
    "    v2v_velocity = 6 #3.9 # according to Lemarechal et al. 2022\n",
    "    igc = (gc_dist_mat.data / v2v_velocity / dt).astype('i')\n",
    "    ilc = (lc_dist_mat.data / local_velocity / dt).astype('i')\n",
    "\n",
    "    # estimate buffer size, use next power of 2 of max delay\n",
    "    nh_g = 2**int(np.ceil(np.log2( igc.max() + 1 )))\n",
    "    nh_l = 2**int(np.ceil(np.log2( ilc.max() + 1 )))\n",
    "    nh = np.max([nh_g, nh_l])\n",
    "\n",
    "    # allocate buffers\n",
    "    xbuf = np.zeros((nv, nh, bs), 'f')  #-1.337896365956364   # initialise on fixed point\n",
    "    dxz = np.zeros((2, 2, nv, bs), 'f')\n",
    "    xz = np.zeros((2, nv, bs), 'f')\n",
    "    xz[0,:] = -1.337896365956364\n",
    "    xz[1,:] = -0.18514344764362828 # initialise on fixed point\n",
    "    xz[1,1] = -0.3 # initialise some vertices slightly below fixed point so it triggers one oscillation\n",
    "\n",
    "    lc = np.zeros((2, nv, bs), 'f')\n",
    "    gc = np.zeros((2, nv, bs), 'f')\n",
    "\n",
    "    I=np.float32(1.0)\n",
    "    eps=np.float32(0.04)\n",
    "    theta=np.float32(0.0)\n",
    "    gamma_lc = np.array([0.0],'f').repeat(bs) # ignore local coupling i.e. =0\n",
    "    gamma_gc = np.array(gamma_range,'f')\n",
    "    x_0 = np.ones((nv, bs),\"f\") * -1.291610504045457 # set all vertices in excitable regime, won't oscillate on its own\n",
    "\n",
    "    nskip = 10\n",
    "    niter = 10000\n",
    "    c = 0\n",
    "    x_trace = np.zeros((int(niter/nskip), nv, bs))\n",
    "    for i in tqdm.trange(niter):\n",
    "        heun(bs, nv, nh, i, dxz, xz, dt, x_0, lc, gc, xbuf, gamma_lc, gamma_gc, eps, theta, I, gc_mat, lc_mat, igc, ilc)\n",
    "        if i % nskip == 0:\n",
    "            x_trace[c,:,:] = xz[0,:,:].copy()\n",
    "            c += 1\n",
    "\n",
    "    n_excitations = get_n_excitations(x_trace)    \n",
    "    return n_excitations\n"
   ]
  },
  {
   "cell_type": "code",
   "execution_count": 6,
   "metadata": {},
   "outputs": [
    {
     "data": {
      "text/plain": [
       "(221,)"
      ]
     },
     "execution_count": 6,
     "metadata": {},
     "output_type": "execute_result"
    }
   ],
   "source": [
    "distance_range = np.arange(40,150.1,0.5)\n",
    "distance_range.shape"
   ]
  },
  {
   "cell_type": "code",
   "execution_count": 7,
   "metadata": {},
   "outputs": [
    {
     "name": "stderr",
     "output_type": "stream",
     "text": [
      " 12%|█▏        | 1223/10000 [00:00<00:02, 4220.11it/s]"
     ]
    },
    {
     "name": "stderr",
     "output_type": "stream",
     "text": [
      "100%|██████████| 10000/10000 [00:01<00:00, 5649.40it/s]\n",
      "100%|██████████| 10000/10000 [00:01<00:00, 5444.29it/s]\n",
      "100%|██████████| 10000/10000 [00:02<00:00, 4918.80it/s]\n",
      "100%|██████████| 10000/10000 [00:02<00:00, 4917.69it/s]\n",
      "100%|██████████| 10000/10000 [00:02<00:00, 4895.26it/s]\n",
      "100%|██████████| 10000/10000 [00:02<00:00, 4895.89it/s]\n",
      "100%|██████████| 10000/10000 [00:02<00:00, 4892.21it/s]\n",
      "100%|██████████| 10000/10000 [00:02<00:00, 4875.27it/s]\n",
      "100%|██████████| 10000/10000 [00:02<00:00, 4823.32it/s]\n",
      "100%|██████████| 10000/10000 [00:02<00:00, 4831.75it/s]\n",
      "100%|██████████| 10000/10000 [00:02<00:00, 4765.98it/s]\n",
      "100%|██████████| 10000/10000 [00:02<00:00, 4808.83it/s]\n",
      "100%|██████████| 10000/10000 [00:02<00:00, 4799.03it/s]\n",
      "100%|██████████| 10000/10000 [00:02<00:00, 4823.61it/s]\n",
      "100%|██████████| 10000/10000 [00:02<00:00, 4808.19it/s]\n",
      "100%|██████████| 10000/10000 [00:02<00:00, 4767.22it/s]\n",
      "100%|██████████| 10000/10000 [00:02<00:00, 4768.87it/s]\n",
      "100%|██████████| 10000/10000 [00:02<00:00, 4777.95it/s]\n",
      "100%|██████████| 10000/10000 [00:02<00:00, 4718.23it/s]\n",
      "100%|██████████| 10000/10000 [00:02<00:00, 4776.94it/s]\n",
      "100%|██████████| 10000/10000 [00:02<00:00, 4739.83it/s]\n",
      "100%|██████████| 10000/10000 [00:02<00:00, 4669.03it/s]\n",
      "100%|██████████| 10000/10000 [00:02<00:00, 4633.37it/s]\n"
     ]
    }
   ],
   "source": [
    "# small parameter sweep\n",
    "distance_range = np.arange(40,150.1,5)\n",
    "gamma_gc_range = np.arange(0.04, 0.2, 0.0005)\n",
    "n_excitations = np.zeros((len(distance_range),2,len(gamma_gc_range)))\n",
    "for i,d in enumerate(distance_range):\n",
    "    n_excitations[i,:,:] = run_sims(d, gamma_gc_range)\n"
   ]
  },
  {
   "cell_type": "code",
   "execution_count": 8,
   "metadata": {},
   "outputs": [
    {
     "name": "stderr",
     "output_type": "stream",
     "text": [
      "/tmp/ipykernel_49353/265848736.py:1: MatplotlibDeprecationWarning: shading='flat' when X and Y have the same dimensions as C is deprecated since 3.3.  Either specify the corners of the quadrilaterals with X and Y, or pass shading='auto', 'nearest' or 'gouraud', or set rcParams['pcolor.shading'].  This will become an error two minor releases later.\n",
      "  plt.pcolormesh(distance_range, gamma_gc_range, n_excitations[:,0,:].T)\n"
     ]
    },
    {
     "data": {
      "text/plain": [
       "<matplotlib.colorbar.Colorbar at 0x7fe37c365e10>"
      ]
     },
     "execution_count": 8,
     "metadata": {},
     "output_type": "execute_result"
    },
    {
     "data": {
      "image/png": "[encoded data removed]",
      "text/plain": [
       "<Figure size 432x288 with 2 Axes>"
      ]
     },
     "metadata": {
      "needs_background": "light"
     },
     "output_type": "display_data"
    }
   ],
   "source": [
    "plt.pcolormesh(distance_range, gamma_gc_range, n_excitations[:,0,:].T)\n",
    "plt.colorbar()"
   ]
  },
  {
   "cell_type": "code",
   "execution_count": 9,
   "metadata": {},
   "outputs": [],
   "source": [
    "np.savez_compressed(\"n_excitaions_sweep_two_nodes_cpu\", n_excitations=n_excitations, distance_range=distance_range, gamma_gc_range=gamma_gc_range)\n"
   ]
  },
  {
   "cell_type": "markdown",
   "metadata": {},
   "source": [
    " # compare CPU vs GPU results"
   ]
  },
  {
   "cell_type": "code",
   "execution_count": 10,
   "metadata": {},
   "outputs": [],
   "source": [
    "n_excitaitons_cpu = np.load(\"n_excitaions_sweep_two_nodes_cpu.npz\")['n_excitations']\n",
    "n_excitaitons_gpu = np.load(\"n_excitaions_sweep_two_nodes_gpu.npz\")['n_excitations']"
   ]
  },
  {
   "cell_type": "code",
   "execution_count": 11,
   "metadata": {},
   "outputs": [
    {
     "data": {
      "text/plain": [
       "(23, 640)"
      ]
     },
     "execution_count": 11,
     "metadata": {},
     "output_type": "execute_result"
    }
   ],
   "source": [
    "n_excitaitons_gpu.shape"
   ]
  },
  {
   "cell_type": "code",
   "execution_count": 12,
   "metadata": {},
   "outputs": [
    {
     "data": {
      "text/plain": [
       "(23, 2, 320)"
      ]
     },
     "execution_count": 12,
     "metadata": {},
     "output_type": "execute_result"
    }
   ],
   "source": [
    "n_excitaitons_cpu.shape"
   ]
  },
  {
   "cell_type": "code",
   "execution_count": 13,
   "metadata": {},
   "outputs": [
    {
     "data": {
      "text/plain": [
       "<matplotlib.colorbar.Colorbar at 0x7fe36c4302b0>"
      ]
     },
     "execution_count": 13,
     "metadata": {},
     "output_type": "execute_result"
    },
    {
     "data": {
      "image/png": "[encoded data removed]",
      "text/plain": [
       "<Figure size 432x288 with 2 Axes>"
      ]
     },
     "metadata": {
      "needs_background": "light"
     },
     "output_type": "display_data"
    }
   ],
   "source": [
    "plt.pcolormesh(np.abs(n_excitaitons_cpu[:,1,:].T-n_excitaitons_gpu[:,:len(gamma_gc_range)].T))\n",
    "plt.colorbar(label=\"$|error|$\")"
   ]
  },
  {
   "cell_type": "code",
   "execution_count": null,
   "metadata": {},
   "outputs": [],
   "source": []
  }
 ],
 "metadata": {
  "kernelspec": {
   "display_name": "paul",
   "language": "python",
   "name": "python3"
  },
  "language_info": {
   "codemirror_mode": {
    "name": "ipython",
    "version": 3
   },
   "file_extension": ".py",
   "mimetype": "text/x-python",
   "name": "python",
   "nbconvert_exporter": "python",
   "pygments_lexer": "ipython3",
   "version": "3.10.4"
  }
 },
 "nbformat": 4,
 "nbformat_minor": 2
}
