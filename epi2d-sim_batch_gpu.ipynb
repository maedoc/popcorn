{
 "cells": [
  {
   "cell_type": "code",
   "execution_count": 1,
   "metadata": {},
   "outputs": [],
   "source": [
    "import numpy as np\n",
    "import scipy.sparse as scpsp\n",
    "import tqdm\n",
    "from clutils import *\n",
    "import pyopencl.array as ca\n",
    "import os\n",
    "os.environ[\"PYOPENCL_CTX\"] = \"0\"\n",
    "import matplotlib.pyplot as plt"
   ]
  },
  {
   "cell_type": "code",
   "execution_count": 2,
   "metadata": {},
   "outputs": [],
   "source": [
    "def get_n_excitations(x):\n",
    "    data_diff = np.diff(x > -1, append=False, axis=0)\n",
    "    n_excitations = np.ceil(data_diff.sum(axis=0)/2)\n",
    "    return n_excitations"
   ]
  },
  {
   "cell_type": "code",
   "execution_count": 3,
   "metadata": {},
   "outputs": [],
   "source": [
    "def run_sims(dist, gamma_range):\n",
    "        nsims = np.int32(len(gamma_range))\n",
    "        # create global and local connectivity\n",
    "        gc_mat = scpsp.csr_matrix([[0,1],[1,0]]).astype('f') \n",
    "        lc_mat = scpsp.csr_matrix([[0,1],[1,0]]).astype('f')\n",
    "        gc_dist_mat = scpsp.csr_matrix([[0,1],[1,0]]).astype('f') * dist\n",
    "        lc_dist_mat = lc_mat.copy() # irrelevant\n",
    "        nvtx = np.int32(lc_mat.shape[0])\n",
    "\n",
    "        # some parameters\n",
    "        dt = np.float32(0.1)\n",
    "\n",
    "        # prepare extra info for delays\n",
    "        local_velocity = 6 # # Salami et al. 2002, intra-cortical conduction 10x slower \n",
    "        v2v_velocity = 6 #3.9 # according to Lemarechal et al. 2022\n",
    "        igc = (gc_dist_mat / local_velocity / dt).astype('i') # rounds down\n",
    "        ilc = (lc_dist_mat / v2v_velocity / dt).astype('i')\n",
    "\n",
    "        nh = np.max([igc.max(), ilc.max()])\n",
    "        nh += 1 # add one to buffer 0 delay state\n",
    "        # round up to the next power of 2\n",
    "        nh = (2**np.ceil(np.log2(nh))).astype('i')\n",
    "\n",
    "        util = Util()\n",
    "        util.load_kernel('./delays_sparse_buf.opencl.c', 'delays1')\n",
    "        util.load_kernel('./delays_sparse_buf.opencl.c', 'upbuf_heavi')\n",
    "        util.load_kernel('./heun_determ.opencl.c', 'heun_pred_determ', 'heun_corr_determ')\n",
    "        util.load_kernel('./epi2d.opencl.c', 'epi2d_dfun')\n",
    "        util.init_vectors('xi zi lc1 lc2 gc1 gc2 dx1 dx2 dz1 dz2', (nvtx * nsims,))\n",
    "\n",
    "        # initialise sparse buffer\n",
    "        # initialised with zeros, as if in the past the state was below the heaviside thershold \"theta\"\n",
    "        util.init_vectors('xbuf', (nh * nvtx * nsims,)) \n",
    "\n",
    "        # initialise on fixed point\n",
    "        x = np.ones((nvtx*nsims,),'f') * -1.337896365956364\n",
    "        z = np.ones((nvtx*nsims,),'f') * -0.18514344764362828\n",
    "        # but one vertex below fixed point to trigger one excitation\n",
    "        z[:nsims] = -0.3\n",
    "        util.move(x=x, z=z)\n",
    "\n",
    "        # set all vertices in excitable regime, won't oscillate on its own\n",
    "        x_0 = np.ones((nvtx*nsims,),'f') * -1.291610504045457 \n",
    "        util.move(x_0=x_0)\n",
    "\n",
    "        # move connecitivty and delay informaiton to GPU\n",
    "        util.move_csr(gc_mat=gc_mat, lc_mat=lc_mat)\n",
    "        util.move(igc=igc.data,    ilc=ilc.data)\n",
    "\n",
    "        # set coupling strength\n",
    "        k_lc = np.zeros((nvtx*nsims,),'f')\n",
    "        k_gc = np.tile(gamma_range, nvtx)\n",
    "        util.move(k_lc = k_lc, k_gc=k_gc)\n",
    "\n",
    "        # local parameters\n",
    "        I=np.float32(1.0)\n",
    "        eps=np.float32(0.04)\n",
    "        theta=np.float32(0.0)\n",
    "\n",
    "        # handle boilerplate for kernel launches\n",
    "        def do(f, *args):\n",
    "                args = [(arg.data if hasattr(arg, 'data') else arg) for arg in args]\n",
    "                f(util.queue, (nvtx * nsims,), ( nsims,), *args)\n",
    "\n",
    "        def step(t):\n",
    "                if t % 2 == 0:\n",
    "                        \n",
    "                        do(util.upbuf_heavi, nvtx, nsims, np.int32(t), theta, nh, util.xbuf, util.x)\n",
    "\n",
    "                        # global coupling for heun corrector, i.e. t+1\n",
    "                        do(util.delays1, \n",
    "                                nvtx, nsims, np.int32(t+1), nh, \n",
    "                                util.gc1, util.xbuf, \n",
    "                                util.gc_mat_data, util.igc, util.gc_mat_indices, util.gc_mat_indptr,)\n",
    "                        \n",
    "                        # local coupling for heun corrector, i.e. t+1\n",
    "                        do(util.delays1, \n",
    "                                nvtx, nsims, np.int32(t+1), nh, \n",
    "                                util.lc1, util.xbuf, \n",
    "                                util.lc_mat_data, util.ilc, util.lc_mat_indices, util.lc_mat_indptr) \n",
    "                        \n",
    "                        # predictor stage\n",
    "                        do(util.epi2d_dfun,\n",
    "                                util.dx1, util.dz1, util.x, util.z, util.x_0, util.k_lc, util.lc2, util.k_gc, util.gc2, eps, I)\n",
    "                        do(util.heun_pred_determ, dt, util.xi, util.x, util.dx1)\n",
    "                        do(util.heun_pred_determ, dt, util.zi, util.z, util.dz1)\n",
    "                        \n",
    "                        # corrector stage\n",
    "                        do(util.epi2d_dfun,\n",
    "                                util.dx2, util.dz2, util.xi, util.zi, util.x_0, util.k_lc, util.lc1, util.k_gc, util.gc1, eps, I)\n",
    "                        do(util.heun_corr_determ, dt, util.x, util.x, util.dx1, util.dx2)\n",
    "                        do(util.heun_corr_determ, dt, util.z, util.z, util.dz1, util.dz2)\n",
    "                else :\n",
    "                        do(util.upbuf_heavi, nvtx, nsims, np.int32(t), theta, nh, util.xbuf, util.x)\n",
    "                        # global coupling for heun corrector, i.e. t+1\n",
    "                        do(util.delays1, \n",
    "                                nvtx, nsims, np.int32(t+1), nh, \n",
    "                                util.gc2, util.xbuf, \n",
    "                                util.gc_mat_data, util.igc, util.gc_mat_indices, util.gc_mat_indptr,)\n",
    "                        \n",
    "                        # local coupling for heun corrector, i.e. t+1\n",
    "                        do(util.delays1, \n",
    "                                nvtx, nsims, np.int32(t+1), nh, \n",
    "                                util.lc2, util.xbuf, \n",
    "                                util.lc_mat_data, util.ilc, util.lc_mat_indices, util.lc_mat_indptr) \n",
    "                        \n",
    "                        # predictor stage\n",
    "                        do(util.epi2d_dfun,\n",
    "                                util.dx1, util.dz1, util.x, util.z, util.x_0, util.k_lc, util.lc1, util.k_gc, util.gc1, eps, I)\n",
    "                        do(util.heun_pred_determ, dt, util.xi, util.x, util.dx1)\n",
    "                        do(util.heun_pred_determ, dt, util.zi, util.z, util.dz1)\n",
    "                        \n",
    "                        # corrector stage\n",
    "                        do(util.epi2d_dfun,\n",
    "                                util.dx2, util.dz2, util.xi, util.zi, util.x_0, util.k_lc, util.lc2, util.k_gc, util.gc2, eps, I)\n",
    "                        do(util.heun_corr_determ, dt, util.x, util.x, util.dx1, util.dx2)\n",
    "                        do(util.heun_corr_determ, dt, util.z, util.z, util.dz1, util.dz2)\n",
    "\n",
    "        nskip = 10\n",
    "        niter = 10000\n",
    "        x_trace = np.zeros((niter//nskip, nvtx*nsims),'f')\n",
    "        for i in tqdm.trange(niter):\n",
    "                step(i)\n",
    "                if i % nskip == 0:\n",
    "                        util.x.get_async(util.queue, x_trace[i//nskip])\n",
    "\n",
    "        n_excitations = get_n_excitations(x_trace)  \n",
    "        return n_excitations"
   ]
  },
  {
   "cell_type": "code",
   "execution_count": 4,
   "metadata": {},
   "outputs": [
    {
     "name": "stdout",
     "output_type": "stream",
     "text": [
      "<pyopencl.Context at 0x56361a2807a0 on <pyopencl.Device 'Quadro RTX 4000' on 'NVIDIA CUDA' at 0x56361a164d80>>\n"
     ]
    },
    {
     "name": "stderr",
     "output_type": "stream",
     "text": [
      "100%|██████████| 10000/10000 [00:04<00:00, 2041.14it/s]\n"
     ]
    },
    {
     "name": "stdout",
     "output_type": "stream",
     "text": [
      "<pyopencl.Context at 0x56361b2ba3c0 on <pyopencl.Device 'Quadro RTX 4000' on 'NVIDIA CUDA' at 0x56361a164d80>>\n"
     ]
    },
    {
     "name": "stderr",
     "output_type": "stream",
     "text": [
      "100%|██████████| 10000/10000 [00:04<00:00, 2068.48it/s]\n"
     ]
    },
    {
     "name": "stdout",
     "output_type": "stream",
     "text": [
      "<pyopencl.Context at 0x56361a1b4cf0 on <pyopencl.Device 'Quadro RTX 4000' on 'NVIDIA CUDA' at 0x56361a164d80>>\n"
     ]
    },
    {
     "name": "stderr",
     "output_type": "stream",
     "text": [
      "100%|██████████| 10000/10000 [00:04<00:00, 2059.32it/s]\n"
     ]
    },
    {
     "name": "stdout",
     "output_type": "stream",
     "text": [
      "<pyopencl.Context at 0x56361a077bf0 on <pyopencl.Device 'Quadro RTX 4000' on 'NVIDIA CUDA' at 0x56361a164d80>>\n"
     ]
    },
    {
     "name": "stderr",
     "output_type": "stream",
     "text": [
      "100%|██████████| 10000/10000 [00:04<00:00, 2043.64it/s]\n"
     ]
    },
    {
     "name": "stdout",
     "output_type": "stream",
     "text": [
      "<pyopencl.Context at 0x56361a8fc310 on <pyopencl.Device 'Quadro RTX 4000' on 'NVIDIA CUDA' at 0x56361a164d80>>\n"
     ]
    },
    {
     "name": "stderr",
     "output_type": "stream",
     "text": [
      "100%|██████████| 10000/10000 [00:04<00:00, 2054.06it/s]\n"
     ]
    },
    {
     "name": "stdout",
     "output_type": "stream",
     "text": [
      "<pyopencl.Context at 0x56361a2807a0 on <pyopencl.Device 'Quadro RTX 4000' on 'NVIDIA CUDA' at 0x56361a164d80>>\n"
     ]
    },
    {
     "name": "stderr",
     "output_type": "stream",
     "text": [
      "100%|██████████| 10000/10000 [00:04<00:00, 2035.64it/s]\n"
     ]
    },
    {
     "name": "stdout",
     "output_type": "stream",
     "text": [
      "<pyopencl.Context at 0x56361a077bf0 on <pyopencl.Device 'Quadro RTX 4000' on 'NVIDIA CUDA' at 0x56361a164d80>>\n"
     ]
    },
    {
     "name": "stderr",
     "output_type": "stream",
     "text": [
      "100%|██████████| 10000/10000 [00:04<00:00, 2034.41it/s]\n"
     ]
    },
    {
     "name": "stdout",
     "output_type": "stream",
     "text": [
      "<pyopencl.Context at 0x56361ad1b4c0 on <pyopencl.Device 'Quadro RTX 4000' on 'NVIDIA CUDA' at 0x56361a164d80>>\n"
     ]
    },
    {
     "name": "stderr",
     "output_type": "stream",
     "text": [
      "100%|██████████| 10000/10000 [00:04<00:00, 2039.94it/s]\n"
     ]
    },
    {
     "name": "stdout",
     "output_type": "stream",
     "text": [
      "<pyopencl.Context at 0x56361a1b4cf0 on <pyopencl.Device 'Quadro RTX 4000' on 'NVIDIA CUDA' at 0x56361a164d80>>\n"
     ]
    },
    {
     "name": "stderr",
     "output_type": "stream",
     "text": [
      "100%|██████████| 10000/10000 [00:04<00:00, 2050.70it/s]\n"
     ]
    },
    {
     "name": "stdout",
     "output_type": "stream",
     "text": [
      "<pyopencl.Context at 0x56361a1bf050 on <pyopencl.Device 'Quadro RTX 4000' on 'NVIDIA CUDA' at 0x56361a164d80>>\n"
     ]
    },
    {
     "name": "stderr",
     "output_type": "stream",
     "text": [
      "100%|██████████| 10000/10000 [00:04<00:00, 2045.04it/s]\n"
     ]
    },
    {
     "name": "stdout",
     "output_type": "stream",
     "text": [
      "<pyopencl.Context at 0x56361a1b4cf0 on <pyopencl.Device 'Quadro RTX 4000' on 'NVIDIA CUDA' at 0x56361a164d80>>\n"
     ]
    },
    {
     "name": "stderr",
     "output_type": "stream",
     "text": [
      "100%|██████████| 10000/10000 [00:04<00:00, 2068.42it/s]\n"
     ]
    },
    {
     "name": "stdout",
     "output_type": "stream",
     "text": [
      "<pyopencl.Context at 0x56361a2807a0 on <pyopencl.Device 'Quadro RTX 4000' on 'NVIDIA CUDA' at 0x56361a164d80>>\n"
     ]
    },
    {
     "name": "stderr",
     "output_type": "stream",
     "text": [
      "100%|██████████| 10000/10000 [00:04<00:00, 2028.35it/s]\n"
     ]
    },
    {
     "name": "stdout",
     "output_type": "stream",
     "text": [
      "<pyopencl.Context at 0x56361b0462e0 on <pyopencl.Device 'Quadro RTX 4000' on 'NVIDIA CUDA' at 0x56361a164d80>>\n"
     ]
    },
    {
     "name": "stderr",
     "output_type": "stream",
     "text": [
      "100%|██████████| 10000/10000 [00:04<00:00, 2054.62it/s]\n"
     ]
    },
    {
     "name": "stdout",
     "output_type": "stream",
     "text": [
      "<pyopencl.Context at 0x56361a1bf050 on <pyopencl.Device 'Quadro RTX 4000' on 'NVIDIA CUDA' at 0x56361a164d80>>\n"
     ]
    },
    {
     "name": "stderr",
     "output_type": "stream",
     "text": [
      "100%|██████████| 10000/10000 [00:04<00:00, 2041.94it/s]\n"
     ]
    },
    {
     "name": "stdout",
     "output_type": "stream",
     "text": [
      "<pyopencl.Context at 0x56361a1b4cf0 on <pyopencl.Device 'Quadro RTX 4000' on 'NVIDIA CUDA' at 0x56361a164d80>>\n"
     ]
    },
    {
     "name": "stderr",
     "output_type": "stream",
     "text": [
      "100%|██████████| 10000/10000 [00:04<00:00, 2042.45it/s]\n"
     ]
    },
    {
     "name": "stdout",
     "output_type": "stream",
     "text": [
      "<pyopencl.Context at 0x56361a2807a0 on <pyopencl.Device 'Quadro RTX 4000' on 'NVIDIA CUDA' at 0x56361a164d80>>\n"
     ]
    },
    {
     "name": "stderr",
     "output_type": "stream",
     "text": [
      "100%|██████████| 10000/10000 [00:04<00:00, 2036.54it/s]\n"
     ]
    },
    {
     "name": "stdout",
     "output_type": "stream",
     "text": [
      "<pyopencl.Context at 0x56361a077bf0 on <pyopencl.Device 'Quadro RTX 4000' on 'NVIDIA CUDA' at 0x56361a164d80>>\n"
     ]
    },
    {
     "name": "stderr",
     "output_type": "stream",
     "text": [
      "100%|██████████| 10000/10000 [00:04<00:00, 2043.28it/s]\n"
     ]
    },
    {
     "name": "stdout",
     "output_type": "stream",
     "text": [
      "<pyopencl.Context at 0x56361a2807a0 on <pyopencl.Device 'Quadro RTX 4000' on 'NVIDIA CUDA' at 0x56361a164d80>>\n"
     ]
    },
    {
     "name": "stderr",
     "output_type": "stream",
     "text": [
      "100%|██████████| 10000/10000 [00:04<00:00, 2045.14it/s]\n"
     ]
    },
    {
     "name": "stdout",
     "output_type": "stream",
     "text": [
      "<pyopencl.Context at 0x56361a6704d0 on <pyopencl.Device 'Quadro RTX 4000' on 'NVIDIA CUDA' at 0x56361a164d80>>\n"
     ]
    },
    {
     "name": "stderr",
     "output_type": "stream",
     "text": [
      "100%|██████████| 10000/10000 [00:04<00:00, 2045.64it/s]\n"
     ]
    },
    {
     "name": "stdout",
     "output_type": "stream",
     "text": [
      "<pyopencl.Context at 0x56361a1bf050 on <pyopencl.Device 'Quadro RTX 4000' on 'NVIDIA CUDA' at 0x56361a164d80>>\n"
     ]
    },
    {
     "name": "stderr",
     "output_type": "stream",
     "text": [
      "100%|██████████| 10000/10000 [00:04<00:00, 2032.96it/s]\n"
     ]
    },
    {
     "name": "stdout",
     "output_type": "stream",
     "text": [
      "<pyopencl.Context at 0x56361a1b0bb0 on <pyopencl.Device 'Quadro RTX 4000' on 'NVIDIA CUDA' at 0x56361a164d80>>\n"
     ]
    },
    {
     "name": "stderr",
     "output_type": "stream",
     "text": [
      "100%|██████████| 10000/10000 [00:04<00:00, 2037.12it/s]\n"
     ]
    },
    {
     "name": "stdout",
     "output_type": "stream",
     "text": [
      "<pyopencl.Context at 0x56361a66d3c0 on <pyopencl.Device 'Quadro RTX 4000' on 'NVIDIA CUDA' at 0x56361a164d80>>\n"
     ]
    },
    {
     "name": "stderr",
     "output_type": "stream",
     "text": [
      "100%|██████████| 10000/10000 [00:04<00:00, 2066.14it/s]\n"
     ]
    },
    {
     "name": "stdout",
     "output_type": "stream",
     "text": [
      "<pyopencl.Context at 0x56361a1b0bb0 on <pyopencl.Device 'Quadro RTX 4000' on 'NVIDIA CUDA' at 0x56361a164d80>>\n"
     ]
    },
    {
     "name": "stderr",
     "output_type": "stream",
     "text": [
      "100%|██████████| 10000/10000 [00:04<00:00, 2040.49it/s]\n"
     ]
    }
   ],
   "source": [
    "# small parameter sweep\n",
    "distance_range = np.arange(40,150.1,5,'f')\n",
    "gamma_gc_range = np.arange(0.04, 0.2, 0.0005,'f')\n",
    "n_excitations = np.zeros((len(distance_range),len(gamma_gc_range)*2))\n",
    "for i,d in enumerate(distance_range):\n",
    "    n_excitations[i,:] = run_sims(d, gamma_gc_range)\n"
   ]
  },
  {
   "cell_type": "code",
   "execution_count": 6,
   "metadata": {},
   "outputs": [
    {
     "name": "stderr",
     "output_type": "stream",
     "text": [
      "/tmp/ipykernel_40537/898046494.py:1: MatplotlibDeprecationWarning: shading='flat' when X and Y have the same dimensions as C is deprecated since 3.3.  Either specify the corners of the quadrilaterals with X and Y, or pass shading='auto', 'nearest' or 'gouraud', or set rcParams['pcolor.shading'].  This will become an error two minor releases later.\n",
      "  plt.pcolormesh(distance_range, gamma_gc_range, n_excitations[:,:len(gamma_gc_range)].T)\n"
     ]
    },
    {
     "data": {
      "text/plain": [
       "<matplotlib.colorbar.Colorbar at 0x7f0096a6c700>"
      ]
     },
     "execution_count": 6,
     "metadata": {},
     "output_type": "execute_result"
    },
    {
     "data": {
      "image/png": "[encoded data removed]",
      "text/plain": [
       "<Figure size 432x288 with 2 Axes>"
      ]
     },
     "metadata": {
      "needs_background": "light"
     },
     "output_type": "display_data"
    }
   ],
   "source": [
    "plt.pcolormesh(distance_range, gamma_gc_range, n_excitations[:,:len(gamma_gc_range)].T)\n",
    "plt.colorbar()"
   ]
  },
  {
   "cell_type": "code",
   "execution_count": 7,
   "metadata": {},
   "outputs": [],
   "source": [
    "np.savez_compressed(\"n_excitaions_sweep_two_nodes_gpu\", n_excitations=n_excitations, distance_range=distance_range, gamma_gc_range=gamma_gc_range)"
   ]
  },
  {
   "cell_type": "code",
   "execution_count": null,
   "metadata": {},
   "outputs": [],
   "source": []
  }
 ],
 "metadata": {
  "kernelspec": {
   "display_name": "paul",
   "language": "python",
   "name": "python3"
  },
  "language_info": {
   "codemirror_mode": {
    "name": "ipython",
    "version": 3
   },
   "file_extension": ".py",
   "mimetype": "text/x-python",
   "name": "python",
   "nbconvert_exporter": "python",
   "pygments_lexer": "ipython3",
   "version": "3.10.4"
  }
 },
 "nbformat": 4,
 "nbformat_minor": 2
}
