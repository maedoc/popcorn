{
 "cells": [
  {
   "cell_type": "code",
   "execution_count": 1,
   "metadata": {},
   "outputs": [],
   "source": [
    "import numpy as np\n",
    "import scipy.sparse as scpsp\n",
    "import tqdm\n",
    "from clutils import *\n",
    "import pyopencl.array as ca\n",
    "import os\n",
    "os.environ[\"PYOPENCL_CTX\"] = \"0\"\n",
    "import matplotlib.pyplot as plt"
   ]
  },
  {
   "cell_type": "code",
   "execution_count": 2,
   "metadata": {},
   "outputs": [
    {
     "name": "stdout",
     "output_type": "stream",
     "text": [
      " n sims in parallel : 1\n",
      "<pyopencl.Context at 0x5592f00fb550 on <pyopencl.Device 'Quadro RTX 4000' on 'NVIDIA CUDA' at 0x5592f0197cf0>>\n"
     ]
    },
    {
     "name": "stderr",
     "output_type": "stream",
     "text": [
      "100%|██████████| 1000/1000 [00:00<00:00, 1385.82it/s]\n"
     ]
    },
    {
     "name": "stdout",
     "output_type": "stream",
     "text": [
      " n sims in parallel : 2\n",
      "<pyopencl.Context at 0x5592f432e390 on <pyopencl.Device 'Quadro RTX 4000' on 'NVIDIA CUDA' at 0x5592f0197cf0>>\n"
     ]
    },
    {
     "name": "stderr",
     "output_type": "stream",
     "text": [
      "100%|██████████| 1000/1000 [00:00<00:00, 1353.61it/s]\n"
     ]
    },
    {
     "name": "stdout",
     "output_type": "stream",
     "text": [
      " n sims in parallel : 4\n",
      "<pyopencl.Context at 0x5592f4394ac0 on <pyopencl.Device 'Quadro RTX 4000' on 'NVIDIA CUDA' at 0x5592f0197cf0>>\n"
     ]
    },
    {
     "name": "stderr",
     "output_type": "stream",
     "text": [
      "100%|██████████| 1000/1000 [00:00<00:00, 1278.69it/s]\n"
     ]
    },
    {
     "name": "stdout",
     "output_type": "stream",
     "text": [
      " n sims in parallel : 8\n",
      "<pyopencl.Context at 0x5592f4360d30 on <pyopencl.Device 'Quadro RTX 4000' on 'NVIDIA CUDA' at 0x5592f0197cf0>>\n"
     ]
    },
    {
     "name": "stderr",
     "output_type": "stream",
     "text": [
      "100%|██████████| 1000/1000 [00:00<00:00, 1163.66it/s]\n"
     ]
    },
    {
     "name": "stdout",
     "output_type": "stream",
     "text": [
      " n sims in parallel : 16\n",
      "<pyopencl.Context at 0x5592efeb92a0 on <pyopencl.Device 'Quadro RTX 4000' on 'NVIDIA CUDA' at 0x5592f0197cf0>>\n"
     ]
    },
    {
     "name": "stderr",
     "output_type": "stream",
     "text": [
      "100%|██████████| 1000/1000 [00:00<00:00, 1031.41it/s]\n"
     ]
    },
    {
     "name": "stdout",
     "output_type": "stream",
     "text": [
      " n sims in parallel : 32\n",
      "<pyopencl.Context at 0x5592f19e42b0 on <pyopencl.Device 'Quadro RTX 4000' on 'NVIDIA CUDA' at 0x5592f0197cf0>>\n"
     ]
    },
    {
     "name": "stderr",
     "output_type": "stream",
     "text": [
      "100%|██████████| 1000/1000 [00:01<00:00, 948.71it/s]\n"
     ]
    },
    {
     "name": "stdout",
     "output_type": "stream",
     "text": [
      " n sims in parallel : 64\n",
      "<pyopencl.Context at 0x5592f3d4dd60 on <pyopencl.Device 'Quadro RTX 4000' on 'NVIDIA CUDA' at 0x5592f0197cf0>>\n"
     ]
    },
    {
     "name": "stderr",
     "output_type": "stream",
     "text": [
      "100%|██████████| 1000/1000 [00:01<00:00, 692.36it/s]\n"
     ]
    },
    {
     "name": "stdout",
     "output_type": "stream",
     "text": [
      " n sims in parallel : 128\n",
      "<pyopencl.Context at 0x5592f2db1f10 on <pyopencl.Device 'Quadro RTX 4000' on 'NVIDIA CUDA' at 0x5592f0197cf0>>\n"
     ]
    },
    {
     "name": "stderr",
     "output_type": "stream",
     "text": [
      "100%|██████████| 1000/1000 [00:02<00:00, 366.21it/s]\n"
     ]
    },
    {
     "name": "stdout",
     "output_type": "stream",
     "text": [
      " n sims in parallel : 256\n",
      "<pyopencl.Context at 0x5592f4375770 on <pyopencl.Device 'Quadro RTX 4000' on 'NVIDIA CUDA' at 0x5592f0197cf0>>\n"
     ]
    },
    {
     "name": "stderr",
     "output_type": "stream",
     "text": [
      "100%|██████████| 1000/1000 [00:05<00:00, 179.44it/s]\n"
     ]
    }
   ],
   "source": [
    "for bs in [1,2,4,8,16,32,64,128,256]:\n",
    "        print(f' n sims in parallel : {bs}') # = 32 # n sims in parallel\n",
    "        gamma_range = np.linspace(0.001, 0.01, bs).astype('f')\n",
    "        nsims = np.int32(len(gamma_range))\n",
    "        \n",
    "        # load the global and local connectivity matrices\n",
    "        lc_dist_mat = scpsp.load_npz('vert2vert_gdist_mat_32k.npz').astype('f')\n",
    "        gc_dist_mat = scpsp.load_npz('vert2vert_lengths_32k_15M.npz').astype('f')\n",
    "        gc_mat = scpsp.load_npz('vert2vert_weights_32k_15M.npz').astype('f')\n",
    "\n",
    "        # make lc kernel from gdist\n",
    "        lc_mat = lc_dist_mat.copy()\n",
    "        lc_mat.data = np.exp(-lc_mat.data/5.0).astype('f')\n",
    "        nv = lc_mat.shape[0]\n",
    "\n",
    "        # take subset for benchmarking\n",
    "        nv = np.int32(10*1024)\n",
    "        gc_mat = gc_mat[:nv][:,:nv]\n",
    "        lc_mat = lc_mat[:nv][:,:nv]\n",
    "        gc_dist_mat = gc_dist_mat[:nv][:,:nv]\n",
    "        lc_dist_mat = lc_dist_mat[:nv][:,:nv]\n",
    "\n",
    "        # some parameters\n",
    "        dt = np.float32(0.1)\n",
    "\n",
    "        # prepare extra info for delays\n",
    "        local_velocity = 6 # # Salami et al. 2002, intra-cortical conduction 10x slower \n",
    "        v2v_velocity = 6 #3.9 # according to Lemarechal et al. 2022\n",
    "        igc = (gc_dist_mat / local_velocity / dt).astype('i') # rounds down\n",
    "        ilc = (lc_dist_mat / v2v_velocity / dt).astype('i')\n",
    "\n",
    "        nh = np.max([igc.max(), ilc.max()])\n",
    "        nh += 1 # add one to buffer 0 delay state\n",
    "        # round up to the next power of 2\n",
    "        nh = (2**np.ceil(np.log2(nh))).astype('i')      \n",
    "        \n",
    "        util = Util()\n",
    "        util.load_kernel('./delays_sparse_buf.opencl.c', 'delays1')\n",
    "        util.load_kernel('./delays_sparse_buf.opencl.c', 'upbuf_heavi')\n",
    "        util.load_kernel('./heun_determ.opencl.c', 'heun_pred_determ', 'heun_corr_determ')\n",
    "        util.load_kernel('./epi2d.opencl.c', 'epi2d_dfun')\n",
    "        util.init_vectors('xi zi lc1 lc2 gc1 gc2 dx1 dx2 dz1 dz2', (nv * nsims,))\n",
    "\n",
    "        # initialise sparse buffer\n",
    "        # initialised with zeros, as if in the past the state was below the heaviside thershold \"theta\"\n",
    "        util.init_vectors('xbuf', (nh * nv * nsims,)) \n",
    "\n",
    "        # initialise on fixed point\n",
    "        x = np.ones((nv*nsims,),'f') * -1.337896365956364\n",
    "        z = np.ones((nv*nsims,),'f') * -0.18514344764362828\n",
    "        # but one vertex below fixed point to trigger one excitation\n",
    "        z[:] = -0.3\n",
    "        util.move(x=x, z=z)\n",
    "\n",
    "        # set all vertices in excitable regime, won't oscillate on its own\n",
    "        x_0 = np.ones((nv*nsims,),'f') * -1.291610504045457 \n",
    "        util.move(x_0=x_0)\n",
    "\n",
    "        # move connecitivty and delay informaiton to GPU\n",
    "        util.move_csr(gc_mat=gc_mat, lc_mat=lc_mat)\n",
    "        util.move(igc=igc.data,    ilc=ilc.data)\n",
    "\n",
    "        # set coupling strength\n",
    "        k_lc = np.zeros((nv*nsims,),'f')\n",
    "        k_gc = np.tile(gamma_range, nv).astype('f')\n",
    "        util.move(k_lc = k_lc, k_gc=k_gc)\n",
    "\n",
    "        # local parameters\n",
    "        I=np.float32(1.0)\n",
    "        eps=np.float32(0.04)\n",
    "        theta=np.float32(0.0)\n",
    "\n",
    "        # handle boilerplate for kernel launches\n",
    "        def do(f, *args):\n",
    "                args = [(arg.data if hasattr(arg, 'data') else arg) for arg in args]\n",
    "                f(util.queue, (nv * nsims,), (nsims,), *args)\n",
    "\n",
    "        def step(t):\n",
    "                # eval coupling 1 or 2, depending on time step\n",
    "                if t % 2 == 0:\n",
    "                        do(util.upbuf_heavi, nv, nsims, np.int32(t), theta, nh, util.xbuf, util.x)\n",
    "\n",
    "                        # global coupling for heun corrector, i.e. t+1\n",
    "                        do(util.delays1, \n",
    "                                nv, nsims, np.int32(t+1), nh, \n",
    "                                util.gc1, util.xbuf, \n",
    "                                util.gc_mat_data, util.igc, util.gc_mat_indices, util.gc_mat_indptr,)\n",
    "                        \n",
    "                        # local coupling for heun corrector, i.e. t+1\n",
    "                        do(util.delays1, \n",
    "                                nv, nsims, np.int32(t+1), nh, \n",
    "                                util.lc1, util.xbuf, \n",
    "                                util.lc_mat_data, util.ilc, util.lc_mat_indices, util.lc_mat_indptr) \n",
    "                        \n",
    "                        # predictor stage\n",
    "                        do(util.epi2d_dfun,\n",
    "                                util.dx1, util.dz1, util.x, util.z, util.x_0, util.k_lc, util.lc2, util.k_gc, util.gc2, eps, I)\n",
    "                        do(util.heun_pred_determ, dt, util.xi, util.x, util.dx1)\n",
    "                        do(util.heun_pred_determ, dt, util.zi, util.z, util.dz1)\n",
    "                        \n",
    "                        # corrector stage\n",
    "                        do(util.epi2d_dfun,\n",
    "                                util.dx2, util.dz2, util.xi, util.zi, util.x_0, util.k_lc, util.lc1, util.k_gc, util.gc1, eps, I)\n",
    "                        do(util.heun_corr_determ, dt, util.x, util.x, util.dx1, util.dx2)\n",
    "                        do(util.heun_corr_determ, dt, util.z, util.z, util.dz1, util.dz2)\n",
    "                else :\n",
    "                        do(util.upbuf_heavi, nv, nsims, np.int32(t), theta, nh, util.xbuf, util.x)\n",
    "                        # global coupling for heun corrector, i.e. t+1\n",
    "                        do(util.delays1, \n",
    "                                nv, nsims, np.int32(t+1), nh, \n",
    "                                util.gc2, util.xbuf, \n",
    "                                util.gc_mat_data, util.igc, util.gc_mat_indices, util.gc_mat_indptr,)\n",
    "                        \n",
    "                        # local coupling for heun corrector, i.e. t+1\n",
    "                        do(util.delays1, \n",
    "                                nv, nsims, np.int32(t+1), nh, \n",
    "                                util.lc2, util.xbuf, \n",
    "                                util.lc_mat_data, util.ilc, util.lc_mat_indices, util.lc_mat_indptr) \n",
    "                        \n",
    "                        # predictor stage\n",
    "                        do(util.epi2d_dfun,\n",
    "                                util.dx1, util.dz1, util.x, util.z, util.x_0, util.k_lc, util.lc1, util.k_gc, util.gc1, eps, I)\n",
    "                        do(util.heun_pred_determ, dt, util.xi, util.x, util.dx1)\n",
    "                        do(util.heun_pred_determ, dt, util.zi, util.z, util.dz1)\n",
    "                        \n",
    "                        # corrector stage\n",
    "                        do(util.epi2d_dfun,\n",
    "                                util.dx2, util.dz2, util.xi, util.zi, util.x_0, util.k_lc, util.lc2, util.k_gc, util.gc2, eps, I)\n",
    "                        do(util.heun_corr_determ, dt, util.x, util.x, util.dx1, util.dx2)\n",
    "                        do(util.heun_corr_determ, dt, util.z, util.z, util.dz1, util.dz2)\n",
    "\n",
    "\n",
    "        nskip = 10\n",
    "        niter = 1000\n",
    "        x_trace = np.zeros((niter//nskip, nv*nsims),'f')\n",
    "        for i in tqdm.trange(niter):\n",
    "                step(i)\n",
    "                if i % nskip == 0:\n",
    "                        # util.x.get_async(util.queue, x_trace[i//nskip])\n",
    "                        x_trace[i//nskip] = util.x.get()\n",
    "        if bs == 32:\n",
    "                np.savez_compressed(\"epi2d-sim_batch_gpu_10k_vtx.npz\", x_trace=x_trace)\n"
   ]
  },
  {
   "cell_type": "markdown",
   "metadata": {},
   "source": []
  },
  {
   "cell_type": "markdown",
   "metadata": {},
   "source": []
  }
 ],
 "metadata": {
  "kernelspec": {
   "display_name": "paul",
   "language": "python",
   "name": "python3"
  },
  "language_info": {
   "codemirror_mode": {
    "name": "ipython",
    "version": 3
   },
   "file_extension": ".py",
   "mimetype": "text/x-python",
   "name": "python",
   "nbconvert_exporter": "python",
   "pygments_lexer": "ipython3",
   "version": "3.10.4"
  }
 },
 "nbformat": 4,
 "nbformat_minor": 2
}
